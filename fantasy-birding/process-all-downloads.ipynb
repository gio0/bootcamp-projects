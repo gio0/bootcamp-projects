{
 "cells": [
  {
   "cell_type": "code",
   "execution_count": 1,
   "metadata": {},
   "outputs": [],
   "source": [
    "import pandas as pd\n",
    "from h3 import h3\n",
    "import dask.dataframe as dd"
   ]
  },
  {
   "cell_type": "code",
   "execution_count": 3,
   "metadata": {},
   "outputs": [
    {
     "data": {
      "text/html": [
       "<table style=\"border: 2px solid white;\">\n",
       "<tr>\n",
       "<td style=\"vertical-align: top; border: 0px solid white\">\n",
       "<h3 style=\"text-align: left;\">Client</h3>\n",
       "<ul style=\"text-align: left; list-style: none; margin: 0; padding: 0;\">\n",
       "  <li><b>Scheduler: </b>tcp://127.0.0.1:45385</li>\n",
       "  <li><b>Dashboard: </b><a href='http://127.0.0.1:8787/status' target='_blank'>http://127.0.0.1:8787/status</a></li>\n",
       "</ul>\n",
       "</td>\n",
       "<td style=\"vertical-align: top; border: 0px solid white\">\n",
       "<h3 style=\"text-align: left;\">Cluster</h3>\n",
       "<ul style=\"text-align: left; list-style:none; margin: 0; padding: 0;\">\n",
       "  <li><b>Workers: </b>4</li>\n",
       "  <li><b>Cores: </b>8</li>\n",
       "  <li><b>Memory: </b>33.73 GB</li>\n",
       "</ul>\n",
       "</td>\n",
       "</tr>\n",
       "</table>"
      ],
      "text/plain": [
       "<Client: 'tcp://127.0.0.1:45385' processes=4 threads=8, memory=33.73 GB>"
      ]
     },
     "execution_count": 3,
     "metadata": {},
     "output_type": "execute_result"
    }
   ],
   "source": [
    "from dask.distributed import Client\n",
    "\n",
    "client = Client(\"tcp://127.0.0.1:45385\")\n",
    "client"
   ]
  },
  {
   "cell_type": "code",
   "execution_count": 4,
   "metadata": {},
   "outputs": [],
   "source": [
    "# !ls data/gbif/parquets"
   ]
  },
  {
   "cell_type": "code",
   "execution_count": 7,
   "metadata": {},
   "outputs": [],
   "source": [
    "# read all files:\n",
    "f = 'data/gbif/parquets/*.parquet.gzip'\n",
    "\n",
    "cols = ['gbifID', 'species', 'eventDate', 'decimalLatitude', 'decimalLongitude', 'stateProvince']\n",
    "\n",
    "\n",
    "df = dd.read_parquet(f, parse_dates=['eventDate'], usecols=cols)"
   ]
  },
  {
   "cell_type": "code",
   "execution_count": 8,
   "metadata": {},
   "outputs": [
    {
     "data": {
      "text/html": [
       "<div><strong>Dask DataFrame Structure:</strong></div>\n",
       "<div>\n",
       "<style scoped>\n",
       "    .dataframe tbody tr th:only-of-type {\n",
       "        vertical-align: middle;\n",
       "    }\n",
       "\n",
       "    .dataframe tbody tr th {\n",
       "        vertical-align: top;\n",
       "    }\n",
       "\n",
       "    .dataframe thead th {\n",
       "        text-align: right;\n",
       "    }\n",
       "</style>\n",
       "<table border=\"1\" class=\"dataframe\">\n",
       "  <thead>\n",
       "    <tr style=\"text-align: right;\">\n",
       "      <th></th>\n",
       "      <th>gbifID</th>\n",
       "      <th>species</th>\n",
       "      <th>stateProvince</th>\n",
       "      <th>decimalLatitude</th>\n",
       "      <th>decimalLongitude</th>\n",
       "      <th>eventDate</th>\n",
       "    </tr>\n",
       "    <tr>\n",
       "      <th>npartitions=157</th>\n",
       "      <th></th>\n",
       "      <th></th>\n",
       "      <th></th>\n",
       "      <th></th>\n",
       "      <th></th>\n",
       "      <th></th>\n",
       "    </tr>\n",
       "  </thead>\n",
       "  <tbody>\n",
       "    <tr>\n",
       "      <th></th>\n",
       "      <td>int64</td>\n",
       "      <td>object</td>\n",
       "      <td>object</td>\n",
       "      <td>float64</td>\n",
       "      <td>float64</td>\n",
       "      <td>datetime64[ns]</td>\n",
       "    </tr>\n",
       "    <tr>\n",
       "      <th></th>\n",
       "      <td>...</td>\n",
       "      <td>...</td>\n",
       "      <td>...</td>\n",
       "      <td>...</td>\n",
       "      <td>...</td>\n",
       "      <td>...</td>\n",
       "    </tr>\n",
       "    <tr>\n",
       "      <th>...</th>\n",
       "      <td>...</td>\n",
       "      <td>...</td>\n",
       "      <td>...</td>\n",
       "      <td>...</td>\n",
       "      <td>...</td>\n",
       "      <td>...</td>\n",
       "    </tr>\n",
       "    <tr>\n",
       "      <th></th>\n",
       "      <td>...</td>\n",
       "      <td>...</td>\n",
       "      <td>...</td>\n",
       "      <td>...</td>\n",
       "      <td>...</td>\n",
       "      <td>...</td>\n",
       "    </tr>\n",
       "    <tr>\n",
       "      <th></th>\n",
       "      <td>...</td>\n",
       "      <td>...</td>\n",
       "      <td>...</td>\n",
       "      <td>...</td>\n",
       "      <td>...</td>\n",
       "      <td>...</td>\n",
       "    </tr>\n",
       "  </tbody>\n",
       "</table>\n",
       "</div>\n",
       "<div>Dask Name: read-parquet, 157 tasks</div>"
      ],
      "text/plain": [
       "Dask DataFrame Structure:\n",
       "                gbifID species stateProvince decimalLatitude decimalLongitude       eventDate\n",
       "npartitions=157                                                                              \n",
       "                 int64  object        object         float64          float64  datetime64[ns]\n",
       "                   ...     ...           ...             ...              ...             ...\n",
       "...                ...     ...           ...             ...              ...             ...\n",
       "                   ...     ...           ...             ...              ...             ...\n",
       "                   ...     ...           ...             ...              ...             ...\n",
       "Dask Name: read-parquet, 157 tasks"
      ]
     },
     "execution_count": 8,
     "metadata": {},
     "output_type": "execute_result"
    }
   ],
   "source": [
    "df"
   ]
  },
  {
   "cell_type": "code",
   "execution_count": 9,
   "metadata": {},
   "outputs": [],
   "source": [
    "# Filter observations out of range\n",
    "regions = {}\n",
    "regions['mid_atlantic']   = ['New York', 'New Jersey', 'Pennsylvania', 'Maryland', 'Deleware', 'District of Columbia', 'Virginia', 'West Virginia' ]\n",
    "\n",
    "regions['new_england']    = ['Maine', 'New Hampshire', 'Vermont', 'Massachusetts', 'Connecticut', 'Rhode Island']\n",
    "\n",
    "regions['southern_coast'] = ['North Carolina', 'South Carolina', 'Georgia', 'Florida']\n",
    "\n",
    "states = regions['new_england'] + regions['mid_atlantic'] + regions['southern_coast']\n",
    "\n",
    "mask = df['stateProvince'].isin(states)\n",
    "df = df[mask]"
   ]
  },
  {
   "cell_type": "markdown",
   "metadata": {},
   "source": [
    "# Geoindex Observations"
   ]
  },
  {
   "cell_type": "code",
   "execution_count": 10,
   "metadata": {},
   "outputs": [
    {
     "name": "stdout",
     "output_type": "stream",
     "text": [
      "CPU times: user 9.58 ms, sys: 194 µs, total: 9.78 ms\n",
      "Wall time: 7.81 ms\n"
     ]
    }
   ],
   "source": [
    "%%time\n",
    "APERTURE_SIZE = 6\n",
    "hex_col = 'hex'+str(APERTURE_SIZE)\n",
    "\n",
    "df[hex_col] = df.apply(\n",
    "    lambda x: h3.geo_to_h3(x.decimalLatitude, x.decimalLongitude, APERTURE_SIZE),1, meta=(None, 'object'))"
   ]
  },
  {
   "cell_type": "code",
   "execution_count": 11,
   "metadata": {},
   "outputs": [
    {
     "data": {
      "text/html": [
       "<div><strong>Dask DataFrame Structure:</strong></div>\n",
       "<div>\n",
       "<style scoped>\n",
       "    .dataframe tbody tr th:only-of-type {\n",
       "        vertical-align: middle;\n",
       "    }\n",
       "\n",
       "    .dataframe tbody tr th {\n",
       "        vertical-align: top;\n",
       "    }\n",
       "\n",
       "    .dataframe thead th {\n",
       "        text-align: right;\n",
       "    }\n",
       "</style>\n",
       "<table border=\"1\" class=\"dataframe\">\n",
       "  <thead>\n",
       "    <tr style=\"text-align: right;\">\n",
       "      <th></th>\n",
       "      <th>gbifID</th>\n",
       "      <th>species</th>\n",
       "      <th>stateProvince</th>\n",
       "      <th>decimalLatitude</th>\n",
       "      <th>decimalLongitude</th>\n",
       "      <th>eventDate</th>\n",
       "      <th>hex6</th>\n",
       "    </tr>\n",
       "    <tr>\n",
       "      <th>npartitions=157</th>\n",
       "      <th></th>\n",
       "      <th></th>\n",
       "      <th></th>\n",
       "      <th></th>\n",
       "      <th></th>\n",
       "      <th></th>\n",
       "      <th></th>\n",
       "    </tr>\n",
       "  </thead>\n",
       "  <tbody>\n",
       "    <tr>\n",
       "      <th></th>\n",
       "      <td>int64</td>\n",
       "      <td>object</td>\n",
       "      <td>object</td>\n",
       "      <td>float64</td>\n",
       "      <td>float64</td>\n",
       "      <td>datetime64[ns]</td>\n",
       "      <td>object</td>\n",
       "    </tr>\n",
       "    <tr>\n",
       "      <th></th>\n",
       "      <td>...</td>\n",
       "      <td>...</td>\n",
       "      <td>...</td>\n",
       "      <td>...</td>\n",
       "      <td>...</td>\n",
       "      <td>...</td>\n",
       "      <td>...</td>\n",
       "    </tr>\n",
       "    <tr>\n",
       "      <th>...</th>\n",
       "      <td>...</td>\n",
       "      <td>...</td>\n",
       "      <td>...</td>\n",
       "      <td>...</td>\n",
       "      <td>...</td>\n",
       "      <td>...</td>\n",
       "      <td>...</td>\n",
       "    </tr>\n",
       "    <tr>\n",
       "      <th></th>\n",
       "      <td>...</td>\n",
       "      <td>...</td>\n",
       "      <td>...</td>\n",
       "      <td>...</td>\n",
       "      <td>...</td>\n",
       "      <td>...</td>\n",
       "      <td>...</td>\n",
       "    </tr>\n",
       "    <tr>\n",
       "      <th></th>\n",
       "      <td>...</td>\n",
       "      <td>...</td>\n",
       "      <td>...</td>\n",
       "      <td>...</td>\n",
       "      <td>...</td>\n",
       "      <td>...</td>\n",
       "      <td>...</td>\n",
       "    </tr>\n",
       "  </tbody>\n",
       "</table>\n",
       "</div>\n",
       "<div>Dask Name: assign, 943 tasks</div>"
      ],
      "text/plain": [
       "Dask DataFrame Structure:\n",
       "                gbifID species stateProvince decimalLatitude decimalLongitude       eventDate    hex6\n",
       "npartitions=157                                                                                      \n",
       "                 int64  object        object         float64          float64  datetime64[ns]  object\n",
       "                   ...     ...           ...             ...              ...             ...     ...\n",
       "...                ...     ...           ...             ...              ...             ...     ...\n",
       "                   ...     ...           ...             ...              ...             ...     ...\n",
       "                   ...     ...           ...             ...              ...             ...     ...\n",
       "Dask Name: assign, 943 tasks"
      ]
     },
     "execution_count": 11,
     "metadata": {},
     "output_type": "execute_result"
    }
   ],
   "source": [
    "# each observation is now assigned to a hex location - hex6 column\n",
    "df"
   ]
  },
  {
   "cell_type": "code",
   "execution_count": 12,
   "metadata": {},
   "outputs": [],
   "source": [
    "# Group by week and hex\n",
    "df = df.groupby(['hex6',pd.Grouper(freq='W', key='eventDate')])['gbifID'].count().reset_index()"
   ]
  },
  {
   "cell_type": "code",
   "execution_count": 13,
   "metadata": {},
   "outputs": [
    {
     "name": "stdout",
     "output_type": "stream",
     "text": [
      "CPU times: user 1.14 s, sys: 111 ms, total: 1.26 s\n",
      "Wall time: 16min 9s\n"
     ]
    }
   ],
   "source": [
    "%%time\n",
    "# Wall time: 16min 27s\n",
    "\n",
    "result = df.compute()"
   ]
  },
  {
   "cell_type": "code",
   "execution_count": 14,
   "metadata": {},
   "outputs": [
    {
     "data": {
      "text/plain": [
       "pandas.core.frame.DataFrame"
      ]
     },
     "execution_count": 14,
     "metadata": {},
     "output_type": "execute_result"
    }
   ],
   "source": [
    "type(result)"
   ]
  },
  {
   "cell_type": "code",
   "execution_count": 15,
   "metadata": {},
   "outputs": [
    {
     "data": {
      "text/plain": [
       "(1673056, 3)"
      ]
     },
     "execution_count": 15,
     "metadata": {},
     "output_type": "execute_result"
    }
   ],
   "source": [
    "result.shape"
   ]
  },
  {
   "cell_type": "code",
   "execution_count": 16,
   "metadata": {},
   "outputs": [],
   "source": [
    "# Read / Write result dataframe\n",
    "f = 'data/observations_with_hex.parquet.gzip'\n",
    "# result.to_parquet(f, compression='gzip')\n",
    "# result = pd.read_parquet(f)"
   ]
  },
  {
   "cell_type": "markdown",
   "metadata": {},
   "source": [
    "## Apply Smoothing"
   ]
  },
  {
   "cell_type": "code",
   "execution_count": 17,
   "metadata": {},
   "outputs": [],
   "source": [
    "# Modified From\n",
    "# https://github.com/uber/h3-py-notebooks/blob/master/notebooks/unified_data_layers.ipynb\n",
    "\n",
    "def kring_smoothing(df, hex_col, metric_col, k, week):\n",
    "    dfk = df[[hex_col]] \n",
    "    dfk.index = dfk[hex_col]\n",
    "    dfs =  (dfk[hex_col]\n",
    "                 .apply(lambda x: pd.Series(list(h3.k_ring(x,k)))).stack()\n",
    "                 .to_frame('hexk').reset_index(1, drop=True).reset_index()\n",
    "                 .merge(df[[hex_col,metric_col]]).fillna(0)\n",
    "                 .groupby(['hexk'])[[metric_col]].sum().divide((1 + 3 * k * (k + 1)))\n",
    "                 .reset_index()\n",
    "                 .rename(index=str, columns={\"hexk\": hex_col}))\n",
    "    dfs['lat'] = dfs[hex_col].apply(lambda x: h3.h3_to_geo(x)[0])\n",
    "    dfs['lng'] = dfs[hex_col].apply(lambda x: h3.h3_to_geo(x)[1])\n",
    "    dfs['week'] = week\n",
    "    return dfs"
   ]
  },
  {
   "cell_type": "code",
   "execution_count": 18,
   "metadata": {},
   "outputs": [
    {
     "data": {
      "text/html": [
       "<div>\n",
       "<style scoped>\n",
       "    .dataframe tbody tr th:only-of-type {\n",
       "        vertical-align: middle;\n",
       "    }\n",
       "\n",
       "    .dataframe tbody tr th {\n",
       "        vertical-align: top;\n",
       "    }\n",
       "\n",
       "    .dataframe thead th {\n",
       "        text-align: right;\n",
       "    }\n",
       "</style>\n",
       "<table border=\"1\" class=\"dataframe\">\n",
       "  <thead>\n",
       "    <tr style=\"text-align: right;\">\n",
       "      <th></th>\n",
       "      <th>hex6</th>\n",
       "      <th>week</th>\n",
       "      <th>cnt</th>\n",
       "    </tr>\n",
       "  </thead>\n",
       "  <tbody>\n",
       "    <tr>\n",
       "      <th>0</th>\n",
       "      <td>862a02427ffffff</td>\n",
       "      <td>2015-10-11</td>\n",
       "      <td>45</td>\n",
       "    </tr>\n",
       "    <tr>\n",
       "      <th>1</th>\n",
       "      <td>862a10007ffffff</td>\n",
       "      <td>2015-01-04</td>\n",
       "      <td>260</td>\n",
       "    </tr>\n",
       "    <tr>\n",
       "      <th>2</th>\n",
       "      <td>862a10007ffffff</td>\n",
       "      <td>2015-01-11</td>\n",
       "      <td>112</td>\n",
       "    </tr>\n",
       "    <tr>\n",
       "      <th>3</th>\n",
       "      <td>862a10007ffffff</td>\n",
       "      <td>2015-01-18</td>\n",
       "      <td>180</td>\n",
       "    </tr>\n",
       "    <tr>\n",
       "      <th>4</th>\n",
       "      <td>862a10007ffffff</td>\n",
       "      <td>2015-01-25</td>\n",
       "      <td>175</td>\n",
       "    </tr>\n",
       "  </tbody>\n",
       "</table>\n",
       "</div>"
      ],
      "text/plain": [
       "              hex6       week  cnt\n",
       "0  862a02427ffffff 2015-10-11   45\n",
       "1  862a10007ffffff 2015-01-04  260\n",
       "2  862a10007ffffff 2015-01-11  112\n",
       "3  862a10007ffffff 2015-01-18  180\n",
       "4  862a10007ffffff 2015-01-25  175"
      ]
     },
     "execution_count": 18,
     "metadata": {},
     "output_type": "execute_result"
    }
   ],
   "source": [
    "result = result.rename(columns={'eventDate':'week', 'gbifID':'cnt'})\n",
    "result.head()"
   ]
  },
  {
   "cell_type": "code",
   "execution_count": 19,
   "metadata": {},
   "outputs": [],
   "source": [
    "# defined above - use if loading result file\n",
    "APERTURE_SIZE = 6\n",
    "hex_col = 'hex'+str(APERTURE_SIZE)"
   ]
  },
  {
   "cell_type": "markdown",
   "metadata": {},
   "source": [
    "### parallelize with dask"
   ]
  },
  {
   "cell_type": "code",
   "execution_count": 20,
   "metadata": {},
   "outputs": [],
   "source": [
    "from dask import delayed\n",
    "from dask import compute"
   ]
  },
  {
   "cell_type": "code",
   "execution_count": 21,
   "metadata": {},
   "outputs": [
    {
     "name": "stdout",
     "output_type": "stream",
     "text": [
      "CPU times: user 1.18 s, sys: 37.7 ms, total: 1.22 s\n",
      "Wall time: 1.21 s\n"
     ]
    }
   ],
   "source": [
    "%%time\n",
    "\n",
    "eows = result.week.unique()\n",
    "df_lst = []\n",
    "k = 2\n",
    "\n",
    "for w in eows:\n",
    "    mask = result['week'] == w\n",
    "    d = delayed(kring_smoothing)(result[mask], hex_col, 'cnt', k, w)\n",
    "    \n",
    "    df_lst.append(d)"
   ]
  },
  {
   "cell_type": "code",
   "execution_count": 22,
   "metadata": {},
   "outputs": [
    {
     "data": {
      "text/plain": [
       "Delayed('kring_smoothing-ee6f4260-e65b-47d5-b22d-5367ef871da2')"
      ]
     },
     "execution_count": 22,
     "metadata": {},
     "output_type": "execute_result"
    }
   ],
   "source": [
    "df_lst[0]"
   ]
  },
  {
   "cell_type": "code",
   "execution_count": 23,
   "metadata": {},
   "outputs": [
    {
     "name": "stdout",
     "output_type": "stream",
     "text": [
      "CPU times: user 2.31 s, sys: 682 ms, total: 2.99 s\n",
      "Wall time: 2min 8s\n"
     ]
    }
   ],
   "source": [
    "%%time\n",
    "# without using delay: Wall time: 7min 47s\n",
    "\n",
    "dfs = compute(*df_lst)"
   ]
  },
  {
   "cell_type": "code",
   "execution_count": 24,
   "metadata": {},
   "outputs": [
    {
     "data": {
      "text/html": [
       "<div>\n",
       "<style scoped>\n",
       "    .dataframe tbody tr th:only-of-type {\n",
       "        vertical-align: middle;\n",
       "    }\n",
       "\n",
       "    .dataframe tbody tr th {\n",
       "        vertical-align: top;\n",
       "    }\n",
       "\n",
       "    .dataframe thead th {\n",
       "        text-align: right;\n",
       "    }\n",
       "</style>\n",
       "<table border=\"1\" class=\"dataframe\">\n",
       "  <thead>\n",
       "    <tr style=\"text-align: right;\">\n",
       "      <th></th>\n",
       "      <th>hex6</th>\n",
       "      <th>cnt</th>\n",
       "      <th>lat</th>\n",
       "      <th>lng</th>\n",
       "      <th>week</th>\n",
       "    </tr>\n",
       "  </thead>\n",
       "  <tbody>\n",
       "    <tr>\n",
       "      <th>0</th>\n",
       "      <td>862a02407ffffff</td>\n",
       "      <td>2.368421</td>\n",
       "      <td>40.115026</td>\n",
       "      <td>-72.102841</td>\n",
       "      <td>2015-10-11</td>\n",
       "    </tr>\n",
       "    <tr>\n",
       "      <th>1</th>\n",
       "      <td>862a0240fffffff</td>\n",
       "      <td>2.368421</td>\n",
       "      <td>40.060232</td>\n",
       "      <td>-72.088161</td>\n",
       "      <td>2015-10-11</td>\n",
       "    </tr>\n",
       "    <tr>\n",
       "      <th>2</th>\n",
       "      <td>862a02417ffffff</td>\n",
       "      <td>2.368421</td>\n",
       "      <td>40.132503</td>\n",
       "      <td>-72.176596</td>\n",
       "      <td>2015-10-11</td>\n",
       "    </tr>\n",
       "    <tr>\n",
       "      <th>3</th>\n",
       "      <td>862a0241fffffff</td>\n",
       "      <td>2.368421</td>\n",
       "      <td>40.077703</td>\n",
       "      <td>-72.161824</td>\n",
       "      <td>2015-10-11</td>\n",
       "    </tr>\n",
       "    <tr>\n",
       "      <th>4</th>\n",
       "      <td>862a02427ffffff</td>\n",
       "      <td>2.368421</td>\n",
       "      <td>40.152334</td>\n",
       "      <td>-72.043768</td>\n",
       "      <td>2015-10-11</td>\n",
       "    </tr>\n",
       "  </tbody>\n",
       "</table>\n",
       "</div>"
      ],
      "text/plain": [
       "              hex6       cnt        lat        lng       week\n",
       "0  862a02407ffffff  2.368421  40.115026 -72.102841 2015-10-11\n",
       "1  862a0240fffffff  2.368421  40.060232 -72.088161 2015-10-11\n",
       "2  862a02417ffffff  2.368421  40.132503 -72.176596 2015-10-11\n",
       "3  862a0241fffffff  2.368421  40.077703 -72.161824 2015-10-11\n",
       "4  862a02427ffffff  2.368421  40.152334 -72.043768 2015-10-11"
      ]
     },
     "execution_count": 24,
     "metadata": {},
     "output_type": "execute_result"
    }
   ],
   "source": [
    "dfs = pd.concat(dfs)\n",
    "dfs.head()"
   ]
  },
  {
   "cell_type": "code",
   "execution_count": 25,
   "metadata": {},
   "outputs": [
    {
     "data": {
      "text/plain": [
       "(6798581, 5)"
      ]
     },
     "execution_count": 25,
     "metadata": {},
     "output_type": "execute_result"
    }
   ],
   "source": [
    "dfs.shape"
   ]
  },
  {
   "cell_type": "code",
   "execution_count": 26,
   "metadata": {},
   "outputs": [
    {
     "data": {
      "text/plain": [
       "131183262.99999999"
      ]
     },
     "execution_count": 26,
     "metadata": {},
     "output_type": "execute_result"
    }
   ],
   "source": [
    "# Total observations\n",
    "dfs['cnt'].sum()"
   ]
  },
  {
   "cell_type": "code",
   "execution_count": 27,
   "metadata": {},
   "outputs": [],
   "source": [
    "# Read / Write file\n",
    "\n",
    "f = 'data/observations_by_hex_week_smooth.csv'\n",
    "dfs.to_csv(f, index=False)\n",
    "\n",
    "# dfs = pd.read_csv(f)"
   ]
  },
  {
   "cell_type": "markdown",
   "metadata": {},
   "source": [
    "# Percentile rank of hex locations"
   ]
  },
  {
   "cell_type": "code",
   "execution_count": 28,
   "metadata": {},
   "outputs": [
    {
     "data": {
      "text/plain": [
       "(6798581, 5)"
      ]
     },
     "execution_count": 28,
     "metadata": {},
     "output_type": "execute_result"
    }
   ],
   "source": [
    "dfs.shape"
   ]
  },
  {
   "cell_type": "code",
   "execution_count": 29,
   "metadata": {},
   "outputs": [
    {
     "data": {
      "text/html": [
       "<div>\n",
       "<style scoped>\n",
       "    .dataframe tbody tr th:only-of-type {\n",
       "        vertical-align: middle;\n",
       "    }\n",
       "\n",
       "    .dataframe tbody tr th {\n",
       "        vertical-align: top;\n",
       "    }\n",
       "\n",
       "    .dataframe thead th {\n",
       "        text-align: right;\n",
       "    }\n",
       "</style>\n",
       "<table border=\"1\" class=\"dataframe\">\n",
       "  <thead>\n",
       "    <tr style=\"text-align: right;\">\n",
       "      <th></th>\n",
       "      <th>hex6</th>\n",
       "      <th>cnt</th>\n",
       "      <th>lat</th>\n",
       "      <th>lng</th>\n",
       "      <th>week</th>\n",
       "    </tr>\n",
       "  </thead>\n",
       "  <tbody>\n",
       "    <tr>\n",
       "      <th>0</th>\n",
       "      <td>862a02407ffffff</td>\n",
       "      <td>2.368421</td>\n",
       "      <td>40.115026</td>\n",
       "      <td>-72.102841</td>\n",
       "      <td>2015-10-11</td>\n",
       "    </tr>\n",
       "    <tr>\n",
       "      <th>1</th>\n",
       "      <td>862a0240fffffff</td>\n",
       "      <td>2.368421</td>\n",
       "      <td>40.060232</td>\n",
       "      <td>-72.088161</td>\n",
       "      <td>2015-10-11</td>\n",
       "    </tr>\n",
       "    <tr>\n",
       "      <th>2</th>\n",
       "      <td>862a02417ffffff</td>\n",
       "      <td>2.368421</td>\n",
       "      <td>40.132503</td>\n",
       "      <td>-72.176596</td>\n",
       "      <td>2015-10-11</td>\n",
       "    </tr>\n",
       "    <tr>\n",
       "      <th>3</th>\n",
       "      <td>862a0241fffffff</td>\n",
       "      <td>2.368421</td>\n",
       "      <td>40.077703</td>\n",
       "      <td>-72.161824</td>\n",
       "      <td>2015-10-11</td>\n",
       "    </tr>\n",
       "    <tr>\n",
       "      <th>4</th>\n",
       "      <td>862a02427ffffff</td>\n",
       "      <td>2.368421</td>\n",
       "      <td>40.152334</td>\n",
       "      <td>-72.043768</td>\n",
       "      <td>2015-10-11</td>\n",
       "    </tr>\n",
       "  </tbody>\n",
       "</table>\n",
       "</div>"
      ],
      "text/plain": [
       "              hex6       cnt        lat        lng       week\n",
       "0  862a02407ffffff  2.368421  40.115026 -72.102841 2015-10-11\n",
       "1  862a0240fffffff  2.368421  40.060232 -72.088161 2015-10-11\n",
       "2  862a02417ffffff  2.368421  40.132503 -72.176596 2015-10-11\n",
       "3  862a0241fffffff  2.368421  40.077703 -72.161824 2015-10-11\n",
       "4  862a02427ffffff  2.368421  40.152334 -72.043768 2015-10-11"
      ]
     },
     "execution_count": 29,
     "metadata": {},
     "output_type": "execute_result"
    }
   ],
   "source": [
    "dfs.head()"
   ]
  },
  {
   "cell_type": "code",
   "execution_count": 30,
   "metadata": {},
   "outputs": [],
   "source": [
    "# Get top locations\n",
    "hex_total = dfs.groupby('hex6')[['cnt']].sum()\n",
    "hex_total['top_hex6'] = hex_total['cnt'].rank(pct=True) >= .9\n",
    "\n",
    "top_locations = hex_total[hex_total['top_hex6'] == True].index"
   ]
  },
  {
   "cell_type": "code",
   "execution_count": 31,
   "metadata": {},
   "outputs": [
    {
     "data": {
      "text/html": [
       "<div>\n",
       "<style scoped>\n",
       "    .dataframe tbody tr th:only-of-type {\n",
       "        vertical-align: middle;\n",
       "    }\n",
       "\n",
       "    .dataframe tbody tr th {\n",
       "        vertical-align: top;\n",
       "    }\n",
       "\n",
       "    .dataframe thead th {\n",
       "        text-align: right;\n",
       "    }\n",
       "</style>\n",
       "<table border=\"1\" class=\"dataframe\">\n",
       "  <thead>\n",
       "    <tr style=\"text-align: right;\">\n",
       "      <th></th>\n",
       "      <th>cnt</th>\n",
       "      <th>top_hex6</th>\n",
       "    </tr>\n",
       "    <tr>\n",
       "      <th>hex6</th>\n",
       "      <th></th>\n",
       "      <th></th>\n",
       "    </tr>\n",
       "  </thead>\n",
       "  <tbody>\n",
       "    <tr>\n",
       "      <th>862a02407ffffff</th>\n",
       "      <td>2.631579</td>\n",
       "      <td>False</td>\n",
       "    </tr>\n",
       "    <tr>\n",
       "      <th>862a0240fffffff</th>\n",
       "      <td>2.368421</td>\n",
       "      <td>False</td>\n",
       "    </tr>\n",
       "    <tr>\n",
       "      <th>862a02417ffffff</th>\n",
       "      <td>2.631579</td>\n",
       "      <td>False</td>\n",
       "    </tr>\n",
       "    <tr>\n",
       "      <th>862a0241fffffff</th>\n",
       "      <td>2.368421</td>\n",
       "      <td>False</td>\n",
       "    </tr>\n",
       "    <tr>\n",
       "      <th>862a02427ffffff</th>\n",
       "      <td>2.631579</td>\n",
       "      <td>False</td>\n",
       "    </tr>\n",
       "  </tbody>\n",
       "</table>\n",
       "</div>"
      ],
      "text/plain": [
       "                      cnt  top_hex6\n",
       "hex6                               \n",
       "862a02407ffffff  2.631579     False\n",
       "862a0240fffffff  2.368421     False\n",
       "862a02417ffffff  2.631579     False\n",
       "862a0241fffffff  2.368421     False\n",
       "862a02427ffffff  2.631579     False"
      ]
     },
     "execution_count": 31,
     "metadata": {},
     "output_type": "execute_result"
    }
   ],
   "source": [
    "hex_total.head()"
   ]
  },
  {
   "cell_type": "code",
   "execution_count": 32,
   "metadata": {},
   "outputs": [
    {
     "data": {
      "text/plain": [
       "False    39315\n",
       "True      4369\n",
       "Name: pct_rank, dtype: int64"
      ]
     },
     "execution_count": 32,
     "metadata": {},
     "output_type": "execute_result"
    }
   ],
   "source": [
    "hex_total['pct_rank'] = hex_total['cnt'].rank(pct=True) >= .9\n",
    "hex_total['pct_rank'].value_counts()"
   ]
  },
  {
   "cell_type": "code",
   "execution_count": 33,
   "metadata": {},
   "outputs": [
    {
     "data": {
      "text/plain": [
       "(4369,)"
      ]
     },
     "execution_count": 33,
     "metadata": {},
     "output_type": "execute_result"
    }
   ],
   "source": [
    "top_locations.shape"
   ]
  },
  {
   "cell_type": "code",
   "execution_count": 34,
   "metadata": {},
   "outputs": [],
   "source": [
    "mask = dfs['hex6'].isin(top_locations)\n",
    "\n",
    "top_location_observations = dfs[mask]"
   ]
  },
  {
   "cell_type": "code",
   "execution_count": 35,
   "metadata": {},
   "outputs": [
    {
     "data": {
      "text/plain": [
       "(1144186, 5)"
      ]
     },
     "execution_count": 35,
     "metadata": {},
     "output_type": "execute_result"
    }
   ],
   "source": [
    "top_location_observations.shape"
   ]
  },
  {
   "cell_type": "code",
   "execution_count": 36,
   "metadata": {},
   "outputs": [
    {
     "data": {
      "text/html": [
       "<div>\n",
       "<style scoped>\n",
       "    .dataframe tbody tr th:only-of-type {\n",
       "        vertical-align: middle;\n",
       "    }\n",
       "\n",
       "    .dataframe tbody tr th {\n",
       "        vertical-align: top;\n",
       "    }\n",
       "\n",
       "    .dataframe thead th {\n",
       "        text-align: right;\n",
       "    }\n",
       "</style>\n",
       "<table border=\"1\" class=\"dataframe\">\n",
       "  <thead>\n",
       "    <tr style=\"text-align: right;\">\n",
       "      <th></th>\n",
       "      <th>hex6</th>\n",
       "      <th>cnt</th>\n",
       "      <th>lat</th>\n",
       "      <th>lng</th>\n",
       "      <th>week</th>\n",
       "    </tr>\n",
       "  </thead>\n",
       "  <tbody>\n",
       "    <tr>\n",
       "      <th>43</th>\n",
       "      <td>862a06927ffffff</td>\n",
       "      <td>18.210526</td>\n",
       "      <td>41.319673</td>\n",
       "      <td>-70.242644</td>\n",
       "      <td>2015-10-11</td>\n",
       "    </tr>\n",
       "    <tr>\n",
       "      <th>44</th>\n",
       "      <td>862a0692fffffff</td>\n",
       "      <td>18.684211</td>\n",
       "      <td>41.263881</td>\n",
       "      <td>-70.229841</td>\n",
       "      <td>2015-10-11</td>\n",
       "    </tr>\n",
       "    <tr>\n",
       "      <th>48</th>\n",
       "      <td>862a06967ffffff</td>\n",
       "      <td>18.842105</td>\n",
       "      <td>41.189117</td>\n",
       "      <td>-70.142590</td>\n",
       "      <td>2015-10-11</td>\n",
       "    </tr>\n",
       "    <tr>\n",
       "      <th>50</th>\n",
       "      <td>862a06977ffffff</td>\n",
       "      <td>18.684211</td>\n",
       "      <td>41.208127</td>\n",
       "      <td>-70.217069</td>\n",
       "      <td>2015-10-11</td>\n",
       "    </tr>\n",
       "    <tr>\n",
       "      <th>74</th>\n",
       "      <td>862a06d97ffffff</td>\n",
       "      <td>28.842105</td>\n",
       "      <td>41.432991</td>\n",
       "      <td>-71.116219</td>\n",
       "      <td>2015-10-11</td>\n",
       "    </tr>\n",
       "  </tbody>\n",
       "</table>\n",
       "</div>"
      ],
      "text/plain": [
       "               hex6        cnt        lat        lng       week\n",
       "43  862a06927ffffff  18.210526  41.319673 -70.242644 2015-10-11\n",
       "44  862a0692fffffff  18.684211  41.263881 -70.229841 2015-10-11\n",
       "48  862a06967ffffff  18.842105  41.189117 -70.142590 2015-10-11\n",
       "50  862a06977ffffff  18.684211  41.208127 -70.217069 2015-10-11\n",
       "74  862a06d97ffffff  28.842105  41.432991 -71.116219 2015-10-11"
      ]
     },
     "execution_count": 36,
     "metadata": {},
     "output_type": "execute_result"
    }
   ],
   "source": [
    "top_location_observations.head()"
   ]
  },
  {
   "cell_type": "code",
   "execution_count": 37,
   "metadata": {},
   "outputs": [
    {
     "data": {
      "text/html": [
       "<div>\n",
       "<style scoped>\n",
       "    .dataframe tbody tr th:only-of-type {\n",
       "        vertical-align: middle;\n",
       "    }\n",
       "\n",
       "    .dataframe tbody tr th {\n",
       "        vertical-align: top;\n",
       "    }\n",
       "\n",
       "    .dataframe thead th {\n",
       "        text-align: right;\n",
       "    }\n",
       "</style>\n",
       "<table border=\"1\" class=\"dataframe\">\n",
       "  <thead>\n",
       "    <tr style=\"text-align: right;\">\n",
       "      <th>week</th>\n",
       "      <th>hex6</th>\n",
       "      <th>2015-01-04 00:00:00</th>\n",
       "      <th>2015-01-11 00:00:00</th>\n",
       "      <th>2015-01-18 00:00:00</th>\n",
       "      <th>2015-01-25 00:00:00</th>\n",
       "      <th>2015-02-01 00:00:00</th>\n",
       "      <th>2015-02-08 00:00:00</th>\n",
       "      <th>2015-02-15 00:00:00</th>\n",
       "      <th>2015-02-22 00:00:00</th>\n",
       "      <th>2015-03-01 00:00:00</th>\n",
       "      <th>...</th>\n",
       "      <th>2019-11-03 00:00:00</th>\n",
       "      <th>2019-11-10 00:00:00</th>\n",
       "      <th>2019-11-17 00:00:00</th>\n",
       "      <th>2019-11-24 00:00:00</th>\n",
       "      <th>2019-12-01 00:00:00</th>\n",
       "      <th>2019-12-08 00:00:00</th>\n",
       "      <th>2019-12-15 00:00:00</th>\n",
       "      <th>2019-12-22 00:00:00</th>\n",
       "      <th>2019-12-29 00:00:00</th>\n",
       "      <th>2020-01-05 00:00:00</th>\n",
       "    </tr>\n",
       "  </thead>\n",
       "  <tbody>\n",
       "    <tr>\n",
       "      <th>0</th>\n",
       "      <td>862a06927ffffff</td>\n",
       "      <td>16.842105</td>\n",
       "      <td>32.210526</td>\n",
       "      <td>28.000000</td>\n",
       "      <td>12.052632</td>\n",
       "      <td>10.105263</td>\n",
       "      <td>19.210526</td>\n",
       "      <td>23.789474</td>\n",
       "      <td>40.631579</td>\n",
       "      <td>33.263158</td>\n",
       "      <td>...</td>\n",
       "      <td>84.000000</td>\n",
       "      <td>131.631579</td>\n",
       "      <td>76.894737</td>\n",
       "      <td>10.894737</td>\n",
       "      <td>14.789474</td>\n",
       "      <td>23.368421</td>\n",
       "      <td>20.052632</td>\n",
       "      <td>41.631579</td>\n",
       "      <td>208.421053</td>\n",
       "      <td>24.421053</td>\n",
       "    </tr>\n",
       "    <tr>\n",
       "      <th>1</th>\n",
       "      <td>862a0692fffffff</td>\n",
       "      <td>16.842105</td>\n",
       "      <td>31.263158</td>\n",
       "      <td>28.000000</td>\n",
       "      <td>12.052632</td>\n",
       "      <td>10.105263</td>\n",
       "      <td>19.473684</td>\n",
       "      <td>23.789474</td>\n",
       "      <td>40.631579</td>\n",
       "      <td>33.263158</td>\n",
       "      <td>...</td>\n",
       "      <td>84.000000</td>\n",
       "      <td>131.789474</td>\n",
       "      <td>76.894737</td>\n",
       "      <td>11.000000</td>\n",
       "      <td>14.789474</td>\n",
       "      <td>23.631579</td>\n",
       "      <td>20.052632</td>\n",
       "      <td>41.631579</td>\n",
       "      <td>207.368421</td>\n",
       "      <td>24.421053</td>\n",
       "    </tr>\n",
       "    <tr>\n",
       "      <th>2</th>\n",
       "      <td>862a06967ffffff</td>\n",
       "      <td>18.157895</td>\n",
       "      <td>33.789474</td>\n",
       "      <td>28.842105</td>\n",
       "      <td>12.052632</td>\n",
       "      <td>10.105263</td>\n",
       "      <td>20.315789</td>\n",
       "      <td>23.789474</td>\n",
       "      <td>49.894737</td>\n",
       "      <td>33.263158</td>\n",
       "      <td>...</td>\n",
       "      <td>87.526316</td>\n",
       "      <td>160.315789</td>\n",
       "      <td>67.000000</td>\n",
       "      <td>12.526316</td>\n",
       "      <td>16.947368</td>\n",
       "      <td>24.157895</td>\n",
       "      <td>20.052632</td>\n",
       "      <td>26.578947</td>\n",
       "      <td>217.052632</td>\n",
       "      <td>24.421053</td>\n",
       "    </tr>\n",
       "    <tr>\n",
       "      <th>3</th>\n",
       "      <td>862a06977ffffff</td>\n",
       "      <td>16.842105</td>\n",
       "      <td>31.210526</td>\n",
       "      <td>28.000000</td>\n",
       "      <td>12.052632</td>\n",
       "      <td>10.105263</td>\n",
       "      <td>19.473684</td>\n",
       "      <td>23.789474</td>\n",
       "      <td>40.631579</td>\n",
       "      <td>33.263158</td>\n",
       "      <td>...</td>\n",
       "      <td>84.000000</td>\n",
       "      <td>131.789474</td>\n",
       "      <td>76.000000</td>\n",
       "      <td>11.000000</td>\n",
       "      <td>14.789474</td>\n",
       "      <td>23.631579</td>\n",
       "      <td>20.052632</td>\n",
       "      <td>41.421053</td>\n",
       "      <td>207.105263</td>\n",
       "      <td>24.421053</td>\n",
       "    </tr>\n",
       "    <tr>\n",
       "      <th>4</th>\n",
       "      <td>862a06d97ffffff</td>\n",
       "      <td>27.842105</td>\n",
       "      <td>20.105263</td>\n",
       "      <td>21.421053</td>\n",
       "      <td>26.631579</td>\n",
       "      <td>20.263158</td>\n",
       "      <td>28.842105</td>\n",
       "      <td>13.105263</td>\n",
       "      <td>47.684211</td>\n",
       "      <td>40.421053</td>\n",
       "      <td>...</td>\n",
       "      <td>56.421053</td>\n",
       "      <td>74.000000</td>\n",
       "      <td>108.421053</td>\n",
       "      <td>38.210526</td>\n",
       "      <td>132.736842</td>\n",
       "      <td>56.842105</td>\n",
       "      <td>67.631579</td>\n",
       "      <td>37.210526</td>\n",
       "      <td>55.526316</td>\n",
       "      <td>6.736842</td>\n",
       "    </tr>\n",
       "    <tr>\n",
       "      <th>...</th>\n",
       "      <td>...</td>\n",
       "      <td>...</td>\n",
       "      <td>...</td>\n",
       "      <td>...</td>\n",
       "      <td>...</td>\n",
       "      <td>...</td>\n",
       "      <td>...</td>\n",
       "      <td>...</td>\n",
       "      <td>...</td>\n",
       "      <td>...</td>\n",
       "      <td>...</td>\n",
       "      <td>...</td>\n",
       "      <td>...</td>\n",
       "      <td>...</td>\n",
       "      <td>...</td>\n",
       "      <td>...</td>\n",
       "      <td>...</td>\n",
       "      <td>...</td>\n",
       "      <td>...</td>\n",
       "      <td>...</td>\n",
       "      <td>...</td>\n",
       "    </tr>\n",
       "    <tr>\n",
       "      <th>4364</th>\n",
       "      <td>8644f6267ffffff</td>\n",
       "      <td>10.578947</td>\n",
       "      <td>28.894737</td>\n",
       "      <td>22.105263</td>\n",
       "      <td>25.157895</td>\n",
       "      <td>18.631579</td>\n",
       "      <td>31.684211</td>\n",
       "      <td>70.263158</td>\n",
       "      <td>40.684211</td>\n",
       "      <td>40.684211</td>\n",
       "      <td>...</td>\n",
       "      <td>30.894737</td>\n",
       "      <td>53.000000</td>\n",
       "      <td>68.842105</td>\n",
       "      <td>92.421053</td>\n",
       "      <td>31.368421</td>\n",
       "      <td>52.473684</td>\n",
       "      <td>128.210526</td>\n",
       "      <td>28.789474</td>\n",
       "      <td>77.210526</td>\n",
       "      <td>15.052632</td>\n",
       "    </tr>\n",
       "    <tr>\n",
       "      <th>4365</th>\n",
       "      <td>8644f626fffffff</td>\n",
       "      <td>3.578947</td>\n",
       "      <td>16.157895</td>\n",
       "      <td>15.315789</td>\n",
       "      <td>25.421053</td>\n",
       "      <td>14.263158</td>\n",
       "      <td>27.947368</td>\n",
       "      <td>34.894737</td>\n",
       "      <td>37.947368</td>\n",
       "      <td>31.526316</td>\n",
       "      <td>...</td>\n",
       "      <td>27.000000</td>\n",
       "      <td>41.684211</td>\n",
       "      <td>53.000000</td>\n",
       "      <td>46.684211</td>\n",
       "      <td>31.421053</td>\n",
       "      <td>48.421053</td>\n",
       "      <td>111.368421</td>\n",
       "      <td>24.684211</td>\n",
       "      <td>53.052632</td>\n",
       "      <td>10.578947</td>\n",
       "    </tr>\n",
       "    <tr>\n",
       "      <th>4366</th>\n",
       "      <td>8644f6277ffffff</td>\n",
       "      <td>21.789474</td>\n",
       "      <td>33.842105</td>\n",
       "      <td>21.473684</td>\n",
       "      <td>30.526316</td>\n",
       "      <td>21.578947</td>\n",
       "      <td>30.157895</td>\n",
       "      <td>74.789474</td>\n",
       "      <td>45.631579</td>\n",
       "      <td>40.157895</td>\n",
       "      <td>...</td>\n",
       "      <td>37.789474</td>\n",
       "      <td>59.421053</td>\n",
       "      <td>75.736842</td>\n",
       "      <td>97.947368</td>\n",
       "      <td>40.947368</td>\n",
       "      <td>53.578947</td>\n",
       "      <td>143.105263</td>\n",
       "      <td>34.157895</td>\n",
       "      <td>101.526316</td>\n",
       "      <td>20.315789</td>\n",
       "    </tr>\n",
       "    <tr>\n",
       "      <th>4367</th>\n",
       "      <td>8644f62e7ffffff</td>\n",
       "      <td>8.052632</td>\n",
       "      <td>22.473684</td>\n",
       "      <td>17.789474</td>\n",
       "      <td>15.894737</td>\n",
       "      <td>16.684211</td>\n",
       "      <td>26.368421</td>\n",
       "      <td>56.526316</td>\n",
       "      <td>29.000000</td>\n",
       "      <td>21.894737</td>\n",
       "      <td>...</td>\n",
       "      <td>25.052632</td>\n",
       "      <td>45.789474</td>\n",
       "      <td>52.894737</td>\n",
       "      <td>73.947368</td>\n",
       "      <td>24.157895</td>\n",
       "      <td>43.368421</td>\n",
       "      <td>87.157895</td>\n",
       "      <td>20.473684</td>\n",
       "      <td>60.421053</td>\n",
       "      <td>12.052632</td>\n",
       "    </tr>\n",
       "    <tr>\n",
       "      <th>4368</th>\n",
       "      <td>8644f6c6fffffff</td>\n",
       "      <td>17.736842</td>\n",
       "      <td>18.631579</td>\n",
       "      <td>42.105263</td>\n",
       "      <td>74.210526</td>\n",
       "      <td>25.210526</td>\n",
       "      <td>22.105263</td>\n",
       "      <td>28.263158</td>\n",
       "      <td>17.842105</td>\n",
       "      <td>23.000000</td>\n",
       "      <td>...</td>\n",
       "      <td>41.894737</td>\n",
       "      <td>55.263158</td>\n",
       "      <td>47.578947</td>\n",
       "      <td>46.631579</td>\n",
       "      <td>42.631579</td>\n",
       "      <td>57.263158</td>\n",
       "      <td>36.894737</td>\n",
       "      <td>43.263158</td>\n",
       "      <td>98.684211</td>\n",
       "      <td>20.210526</td>\n",
       "    </tr>\n",
       "  </tbody>\n",
       "</table>\n",
       "<p>4369 rows × 263 columns</p>\n",
       "</div>"
      ],
      "text/plain": [
       "week             hex6  2015-01-04 00:00:00  2015-01-11 00:00:00  \\\n",
       "0     862a06927ffffff            16.842105            32.210526   \n",
       "1     862a0692fffffff            16.842105            31.263158   \n",
       "2     862a06967ffffff            18.157895            33.789474   \n",
       "3     862a06977ffffff            16.842105            31.210526   \n",
       "4     862a06d97ffffff            27.842105            20.105263   \n",
       "...               ...                  ...                  ...   \n",
       "4364  8644f6267ffffff            10.578947            28.894737   \n",
       "4365  8644f626fffffff             3.578947            16.157895   \n",
       "4366  8644f6277ffffff            21.789474            33.842105   \n",
       "4367  8644f62e7ffffff             8.052632            22.473684   \n",
       "4368  8644f6c6fffffff            17.736842            18.631579   \n",
       "\n",
       "week  2015-01-18 00:00:00  2015-01-25 00:00:00  2015-02-01 00:00:00  \\\n",
       "0               28.000000            12.052632            10.105263   \n",
       "1               28.000000            12.052632            10.105263   \n",
       "2               28.842105            12.052632            10.105263   \n",
       "3               28.000000            12.052632            10.105263   \n",
       "4               21.421053            26.631579            20.263158   \n",
       "...                   ...                  ...                  ...   \n",
       "4364            22.105263            25.157895            18.631579   \n",
       "4365            15.315789            25.421053            14.263158   \n",
       "4366            21.473684            30.526316            21.578947   \n",
       "4367            17.789474            15.894737            16.684211   \n",
       "4368            42.105263            74.210526            25.210526   \n",
       "\n",
       "week  2015-02-08 00:00:00  2015-02-15 00:00:00  2015-02-22 00:00:00  \\\n",
       "0               19.210526            23.789474            40.631579   \n",
       "1               19.473684            23.789474            40.631579   \n",
       "2               20.315789            23.789474            49.894737   \n",
       "3               19.473684            23.789474            40.631579   \n",
       "4               28.842105            13.105263            47.684211   \n",
       "...                   ...                  ...                  ...   \n",
       "4364            31.684211            70.263158            40.684211   \n",
       "4365            27.947368            34.894737            37.947368   \n",
       "4366            30.157895            74.789474            45.631579   \n",
       "4367            26.368421            56.526316            29.000000   \n",
       "4368            22.105263            28.263158            17.842105   \n",
       "\n",
       "week  2015-03-01 00:00:00  ...  2019-11-03 00:00:00  2019-11-10 00:00:00  \\\n",
       "0               33.263158  ...            84.000000           131.631579   \n",
       "1               33.263158  ...            84.000000           131.789474   \n",
       "2               33.263158  ...            87.526316           160.315789   \n",
       "3               33.263158  ...            84.000000           131.789474   \n",
       "4               40.421053  ...            56.421053            74.000000   \n",
       "...                   ...  ...                  ...                  ...   \n",
       "4364            40.684211  ...            30.894737            53.000000   \n",
       "4365            31.526316  ...            27.000000            41.684211   \n",
       "4366            40.157895  ...            37.789474            59.421053   \n",
       "4367            21.894737  ...            25.052632            45.789474   \n",
       "4368            23.000000  ...            41.894737            55.263158   \n",
       "\n",
       "week  2019-11-17 00:00:00  2019-11-24 00:00:00  2019-12-01 00:00:00  \\\n",
       "0               76.894737            10.894737            14.789474   \n",
       "1               76.894737            11.000000            14.789474   \n",
       "2               67.000000            12.526316            16.947368   \n",
       "3               76.000000            11.000000            14.789474   \n",
       "4              108.421053            38.210526           132.736842   \n",
       "...                   ...                  ...                  ...   \n",
       "4364            68.842105            92.421053            31.368421   \n",
       "4365            53.000000            46.684211            31.421053   \n",
       "4366            75.736842            97.947368            40.947368   \n",
       "4367            52.894737            73.947368            24.157895   \n",
       "4368            47.578947            46.631579            42.631579   \n",
       "\n",
       "week  2019-12-08 00:00:00  2019-12-15 00:00:00  2019-12-22 00:00:00  \\\n",
       "0               23.368421            20.052632            41.631579   \n",
       "1               23.631579            20.052632            41.631579   \n",
       "2               24.157895            20.052632            26.578947   \n",
       "3               23.631579            20.052632            41.421053   \n",
       "4               56.842105            67.631579            37.210526   \n",
       "...                   ...                  ...                  ...   \n",
       "4364            52.473684           128.210526            28.789474   \n",
       "4365            48.421053           111.368421            24.684211   \n",
       "4366            53.578947           143.105263            34.157895   \n",
       "4367            43.368421            87.157895            20.473684   \n",
       "4368            57.263158            36.894737            43.263158   \n",
       "\n",
       "week  2019-12-29 00:00:00  2020-01-05 00:00:00  \n",
       "0              208.421053            24.421053  \n",
       "1              207.368421            24.421053  \n",
       "2              217.052632            24.421053  \n",
       "3              207.105263            24.421053  \n",
       "4               55.526316             6.736842  \n",
       "...                   ...                  ...  \n",
       "4364            77.210526            15.052632  \n",
       "4365            53.052632            10.578947  \n",
       "4366           101.526316            20.315789  \n",
       "4367            60.421053            12.052632  \n",
       "4368            98.684211            20.210526  \n",
       "\n",
       "[4369 rows x 263 columns]"
      ]
     },
     "execution_count": 37,
     "metadata": {},
     "output_type": "execute_result"
    }
   ],
   "source": [
    "top_location_observations.pivot(index='hex6', columns='week', values='cnt').reset_index()"
   ]
  },
  {
   "cell_type": "code",
   "execution_count": 38,
   "metadata": {},
   "outputs": [],
   "source": [
    "# Read / Write file\n",
    "\n",
    "f = 'data/top_locations_time_series.csv'\n",
    "dfs.to_csv(f, index=False)\n",
    "\n",
    "# dfs = pd.read_csv(f)"
   ]
  },
  {
   "cell_type": "code",
   "execution_count": null,
   "metadata": {},
   "outputs": [],
   "source": []
  }
 ],
 "metadata": {
  "kernelspec": {
   "display_name": "Python 3",
   "language": "python",
   "name": "python3"
  },
  "language_info": {
   "codemirror_mode": {
    "name": "ipython",
    "version": 3
   },
   "file_extension": ".py",
   "mimetype": "text/x-python",
   "name": "python",
   "nbconvert_exporter": "python",
   "pygments_lexer": "ipython3",
   "version": "3.9.1"
  }
 },
 "nbformat": 4,
 "nbformat_minor": 4
}
